{
 "cells": [
  {
   "cell_type": "markdown",
   "metadata": {},
   "source": [
    "# 1. Simple Approach - Naive Bayes"
   ]
  },
  {
   "cell_type": "markdown",
   "metadata": {},
   "source": [
    "#### 1.1 Load Data"
   ]
  },
  {
   "cell_type": "code",
   "execution_count": 4,
   "metadata": {},
   "outputs": [
    {
     "data": {
      "text/html": [
       "<div>\n",
       "<style scoped>\n",
       "    .dataframe tbody tr th:only-of-type {\n",
       "        vertical-align: middle;\n",
       "    }\n",
       "\n",
       "    .dataframe tbody tr th {\n",
       "        vertical-align: top;\n",
       "    }\n",
       "\n",
       "    .dataframe thead th {\n",
       "        text-align: right;\n",
       "    }\n",
       "</style>\n",
       "<table border=\"1\" class=\"dataframe\">\n",
       "  <thead>\n",
       "    <tr style=\"text-align: right;\">\n",
       "      <th></th>\n",
       "      <th>v1</th>\n",
       "      <th>v2</th>\n",
       "      <th>Unnamed: 2</th>\n",
       "      <th>Unnamed: 3</th>\n",
       "      <th>Unnamed: 4</th>\n",
       "    </tr>\n",
       "  </thead>\n",
       "  <tbody>\n",
       "    <tr>\n",
       "      <th>0</th>\n",
       "      <td>ham</td>\n",
       "      <td>Go until jurong point, crazy.. Available only ...</td>\n",
       "      <td>NaN</td>\n",
       "      <td>NaN</td>\n",
       "      <td>NaN</td>\n",
       "    </tr>\n",
       "    <tr>\n",
       "      <th>1</th>\n",
       "      <td>ham</td>\n",
       "      <td>Ok lar... Joking wif u oni...</td>\n",
       "      <td>NaN</td>\n",
       "      <td>NaN</td>\n",
       "      <td>NaN</td>\n",
       "    </tr>\n",
       "    <tr>\n",
       "      <th>2</th>\n",
       "      <td>spam</td>\n",
       "      <td>Free entry in 2 a wkly comp to win FA Cup fina...</td>\n",
       "      <td>NaN</td>\n",
       "      <td>NaN</td>\n",
       "      <td>NaN</td>\n",
       "    </tr>\n",
       "    <tr>\n",
       "      <th>3</th>\n",
       "      <td>ham</td>\n",
       "      <td>U dun say so early hor... U c already then say...</td>\n",
       "      <td>NaN</td>\n",
       "      <td>NaN</td>\n",
       "      <td>NaN</td>\n",
       "    </tr>\n",
       "    <tr>\n",
       "      <th>4</th>\n",
       "      <td>ham</td>\n",
       "      <td>Nah I don't think he goes to usf, he lives aro...</td>\n",
       "      <td>NaN</td>\n",
       "      <td>NaN</td>\n",
       "      <td>NaN</td>\n",
       "    </tr>\n",
       "  </tbody>\n",
       "</table>\n",
       "</div>"
      ],
      "text/plain": [
       "     v1                                                 v2 Unnamed: 2  \\\n",
       "0   ham  Go until jurong point, crazy.. Available only ...        NaN   \n",
       "1   ham                      Ok lar... Joking wif u oni...        NaN   \n",
       "2  spam  Free entry in 2 a wkly comp to win FA Cup fina...        NaN   \n",
       "3   ham  U dun say so early hor... U c already then say...        NaN   \n",
       "4   ham  Nah I don't think he goes to usf, he lives aro...        NaN   \n",
       "\n",
       "  Unnamed: 3 Unnamed: 4  \n",
       "0        NaN        NaN  \n",
       "1        NaN        NaN  \n",
       "2        NaN        NaN  \n",
       "3        NaN        NaN  \n",
       "4        NaN        NaN  "
      ]
     },
     "execution_count": 4,
     "metadata": {},
     "output_type": "execute_result"
    }
   ],
   "source": [
    "import pandas as pd\n",
    "\n",
    "df = pd.read_csv('../data/spam.csv', encoding='latin-1')\n",
    "df.head()"
   ]
  },
  {
   "cell_type": "markdown",
   "metadata": {},
   "source": [
    "#### 1.2 Convert target to Bool"
   ]
  },
  {
   "cell_type": "code",
   "execution_count": 5,
   "metadata": {},
   "outputs": [],
   "source": [
    "df['v1'] = df['v1'].map({'ham': 0, 'spam': 1})"
   ]
  },
  {
   "cell_type": "markdown",
   "metadata": {},
   "source": [
    "#### 1.3 Train Test Split"
   ]
  },
  {
   "cell_type": "code",
   "execution_count": 6,
   "metadata": {},
   "outputs": [],
   "source": [
    "from sklearn.model_selection import train_test_split\n",
    "\n",
    "X_train, X_test, y_train, y_test = train_test_split(df['v2'], df['v1'], test_size=0.2, random_state=42)\n"
   ]
  },
  {
   "cell_type": "markdown",
   "metadata": {},
   "source": [
    "#### 1.4 Pipeline"
   ]
  },
  {
   "cell_type": "code",
   "execution_count": 7,
   "metadata": {},
   "outputs": [],
   "source": [
    "from sklearn.pipeline import Pipeline\n",
    "from sklearn.feature_extraction.text import CountVectorizer, TfidfTransformer\n",
    "from sklearn.naive_bayes import MultinomialNB\n",
    "\n",
    "pipeline = Pipeline([\n",
    "    ('vect', CountVectorizer()),\n",
    "    ('tfidf', TfidfTransformer()),\n",
    "    ('clf', MultinomialNB())\n",
    "])"
   ]
  },
  {
   "cell_type": "markdown",
   "metadata": {},
   "source": [
    "#### 1.5 Train Model"
   ]
  },
  {
   "cell_type": "code",
   "execution_count": 8,
   "metadata": {},
   "outputs": [
    {
     "data": {
      "text/html": [
       "<style>#sk-container-id-1 {color: black;}#sk-container-id-1 pre{padding: 0;}#sk-container-id-1 div.sk-toggleable {background-color: white;}#sk-container-id-1 label.sk-toggleable__label {cursor: pointer;display: block;width: 100%;margin-bottom: 0;padding: 0.3em;box-sizing: border-box;text-align: center;}#sk-container-id-1 label.sk-toggleable__label-arrow:before {content: \"▸\";float: left;margin-right: 0.25em;color: #696969;}#sk-container-id-1 label.sk-toggleable__label-arrow:hover:before {color: black;}#sk-container-id-1 div.sk-estimator:hover label.sk-toggleable__label-arrow:before {color: black;}#sk-container-id-1 div.sk-toggleable__content {max-height: 0;max-width: 0;overflow: hidden;text-align: left;background-color: #f0f8ff;}#sk-container-id-1 div.sk-toggleable__content pre {margin: 0.2em;color: black;border-radius: 0.25em;background-color: #f0f8ff;}#sk-container-id-1 input.sk-toggleable__control:checked~div.sk-toggleable__content {max-height: 200px;max-width: 100%;overflow: auto;}#sk-container-id-1 input.sk-toggleable__control:checked~label.sk-toggleable__label-arrow:before {content: \"▾\";}#sk-container-id-1 div.sk-estimator input.sk-toggleable__control:checked~label.sk-toggleable__label {background-color: #d4ebff;}#sk-container-id-1 div.sk-label input.sk-toggleable__control:checked~label.sk-toggleable__label {background-color: #d4ebff;}#sk-container-id-1 input.sk-hidden--visually {border: 0;clip: rect(1px 1px 1px 1px);clip: rect(1px, 1px, 1px, 1px);height: 1px;margin: -1px;overflow: hidden;padding: 0;position: absolute;width: 1px;}#sk-container-id-1 div.sk-estimator {font-family: monospace;background-color: #f0f8ff;border: 1px dotted black;border-radius: 0.25em;box-sizing: border-box;margin-bottom: 0.5em;}#sk-container-id-1 div.sk-estimator:hover {background-color: #d4ebff;}#sk-container-id-1 div.sk-parallel-item::after {content: \"\";width: 100%;border-bottom: 1px solid gray;flex-grow: 1;}#sk-container-id-1 div.sk-label:hover label.sk-toggleable__label {background-color: #d4ebff;}#sk-container-id-1 div.sk-serial::before {content: \"\";position: absolute;border-left: 1px solid gray;box-sizing: border-box;top: 0;bottom: 0;left: 50%;z-index: 0;}#sk-container-id-1 div.sk-serial {display: flex;flex-direction: column;align-items: center;background-color: white;padding-right: 0.2em;padding-left: 0.2em;position: relative;}#sk-container-id-1 div.sk-item {position: relative;z-index: 1;}#sk-container-id-1 div.sk-parallel {display: flex;align-items: stretch;justify-content: center;background-color: white;position: relative;}#sk-container-id-1 div.sk-item::before, #sk-container-id-1 div.sk-parallel-item::before {content: \"\";position: absolute;border-left: 1px solid gray;box-sizing: border-box;top: 0;bottom: 0;left: 50%;z-index: -1;}#sk-container-id-1 div.sk-parallel-item {display: flex;flex-direction: column;z-index: 1;position: relative;background-color: white;}#sk-container-id-1 div.sk-parallel-item:first-child::after {align-self: flex-end;width: 50%;}#sk-container-id-1 div.sk-parallel-item:last-child::after {align-self: flex-start;width: 50%;}#sk-container-id-1 div.sk-parallel-item:only-child::after {width: 0;}#sk-container-id-1 div.sk-dashed-wrapped {border: 1px dashed gray;margin: 0 0.4em 0.5em 0.4em;box-sizing: border-box;padding-bottom: 0.4em;background-color: white;}#sk-container-id-1 div.sk-label label {font-family: monospace;font-weight: bold;display: inline-block;line-height: 1.2em;}#sk-container-id-1 div.sk-label-container {text-align: center;}#sk-container-id-1 div.sk-container {/* jupyter's `normalize.less` sets `[hidden] { display: none; }` but bootstrap.min.css set `[hidden] { display: none !important; }` so we also need the `!important` here to be able to override the default hidden behavior on the sphinx rendered scikit-learn.org. See: https://github.com/scikit-learn/scikit-learn/issues/21755 */display: inline-block !important;position: relative;}#sk-container-id-1 div.sk-text-repr-fallback {display: none;}</style><div id=\"sk-container-id-1\" class=\"sk-top-container\"><div class=\"sk-text-repr-fallback\"><pre>Pipeline(steps=[(&#x27;vect&#x27;, CountVectorizer()), (&#x27;tfidf&#x27;, TfidfTransformer()),\n",
       "                (&#x27;clf&#x27;, MultinomialNB())])</pre><b>In a Jupyter environment, please rerun this cell to show the HTML representation or trust the notebook. <br />On GitHub, the HTML representation is unable to render, please try loading this page with nbviewer.org.</b></div><div class=\"sk-container\" hidden><div class=\"sk-item sk-dashed-wrapped\"><div class=\"sk-label-container\"><div class=\"sk-label sk-toggleable\"><input class=\"sk-toggleable__control sk-hidden--visually\" id=\"sk-estimator-id-1\" type=\"checkbox\" ><label for=\"sk-estimator-id-1\" class=\"sk-toggleable__label sk-toggleable__label-arrow\">Pipeline</label><div class=\"sk-toggleable__content\"><pre>Pipeline(steps=[(&#x27;vect&#x27;, CountVectorizer()), (&#x27;tfidf&#x27;, TfidfTransformer()),\n",
       "                (&#x27;clf&#x27;, MultinomialNB())])</pre></div></div></div><div class=\"sk-serial\"><div class=\"sk-item\"><div class=\"sk-estimator sk-toggleable\"><input class=\"sk-toggleable__control sk-hidden--visually\" id=\"sk-estimator-id-2\" type=\"checkbox\" ><label for=\"sk-estimator-id-2\" class=\"sk-toggleable__label sk-toggleable__label-arrow\">CountVectorizer</label><div class=\"sk-toggleable__content\"><pre>CountVectorizer()</pre></div></div></div><div class=\"sk-item\"><div class=\"sk-estimator sk-toggleable\"><input class=\"sk-toggleable__control sk-hidden--visually\" id=\"sk-estimator-id-3\" type=\"checkbox\" ><label for=\"sk-estimator-id-3\" class=\"sk-toggleable__label sk-toggleable__label-arrow\">TfidfTransformer</label><div class=\"sk-toggleable__content\"><pre>TfidfTransformer()</pre></div></div></div><div class=\"sk-item\"><div class=\"sk-estimator sk-toggleable\"><input class=\"sk-toggleable__control sk-hidden--visually\" id=\"sk-estimator-id-4\" type=\"checkbox\" ><label for=\"sk-estimator-id-4\" class=\"sk-toggleable__label sk-toggleable__label-arrow\">MultinomialNB</label><div class=\"sk-toggleable__content\"><pre>MultinomialNB()</pre></div></div></div></div></div></div></div>"
      ],
      "text/plain": [
       "Pipeline(steps=[('vect', CountVectorizer()), ('tfidf', TfidfTransformer()),\n",
       "                ('clf', MultinomialNB())])"
      ]
     },
     "execution_count": 8,
     "metadata": {},
     "output_type": "execute_result"
    }
   ],
   "source": [
    "pipeline.fit(X_train, y_train)"
   ]
  },
  {
   "cell_type": "markdown",
   "metadata": {},
   "source": [
    "#### 1.6 Perform Predictions"
   ]
  },
  {
   "cell_type": "code",
   "execution_count": 9,
   "metadata": {},
   "outputs": [],
   "source": [
    "y_pred = pipeline.predict(X_test)"
   ]
  },
  {
   "cell_type": "markdown",
   "metadata": {},
   "source": [
    "#### 1.7 Evaluate Model Predictions"
   ]
  },
  {
   "cell_type": "code",
   "execution_count": 10,
   "metadata": {},
   "outputs": [
    {
     "name": "stdout",
     "output_type": "stream",
     "text": [
      "Accuracy: 0.96\n",
      "Precision: 1.00\n",
      "Recall: 0.72\n",
      "F1 Score: 0.84\n"
     ]
    }
   ],
   "source": [
    "from sklearn.metrics import accuracy_score, precision_score, recall_score, f1_score, confusion_matrix\n",
    "\n",
    "accuracy = accuracy_score(y_test, y_pred)\n",
    "precision = precision_score(y_test, y_pred)\n",
    "recall = recall_score(y_test, y_pred)\n",
    "f1 = f1_score(y_test, y_pred)\n",
    "\n",
    "print(f'Accuracy: {accuracy:.2f}')\n",
    "print(f'Precision: {precision:.2f}')\n",
    "print(f'Recall: {recall:.2f}')\n",
    "print(f'F1 Score: {f1:.2f}')"
   ]
  },
  {
   "cell_type": "code",
   "execution_count": 13,
   "metadata": {},
   "outputs": [
    {
     "data": {
      "image/png": "[encoded data removed]",
      "text/plain": [
       "<Figure size 600x400 with 2 Axes>"
      ]
     },
     "metadata": {},
     "output_type": "display_data"
    }
   ],
   "source": [
    "import matplotlib.pyplot as plt\n",
    "import seaborn as sns\n",
    "\n",
    "conf_matrix = confusion_matrix(y_test, y_pred)\n",
    "\n",
    "plt.figure(figsize=(6, 4))\n",
    "sns.heatmap(conf_matrix, annot=True, fmt='d', cmap='Blues', xticklabels=['Ham', 'Spam'], yticklabels=['Ham', 'Spam'])\n",
    "plt.ylabel('Actual')\n",
    "plt.xlabel('Predicted')\n",
    "plt.title('Confusion Matrix')\n",
    "plt.show()"
   ]
  },
  {
   "cell_type": "markdown",
   "metadata": {},
   "source": [
    "# 2. SMOTE Approach - Naive Bayes"
   ]
  },
  {
   "cell_type": "markdown",
   "metadata": {},
   "source": [
    "#### 2.1 Load Data"
   ]
  },
  {
   "cell_type": "code",
   "execution_count": 16,
   "metadata": {},
   "outputs": [],
   "source": [
    "import pandas as pd\n",
    "\n",
    "df = pd.read_csv('../data/spam.csv', encoding='latin-1')"
   ]
  },
  {
   "cell_type": "markdown",
   "metadata": {},
   "source": [
    "#### 2.2 Convert Target to Bool"
   ]
  },
  {
   "cell_type": "code",
   "execution_count": 17,
   "metadata": {},
   "outputs": [],
   "source": [
    "df['v1'] = df['v1'].map({'ham': 0, 'spam': 1})"
   ]
  },
  {
   "cell_type": "markdown",
   "metadata": {},
   "source": [
    "#### 2.3 Train Test Split"
   ]
  },
  {
   "cell_type": "code",
   "execution_count": 18,
   "metadata": {},
   "outputs": [],
   "source": [
    "from sklearn.model_selection import train_test_split\n",
    "\n",
    "X_train, X_test, y_train, y_test = train_test_split(df['v2'], df['v1'], test_size=0.2, random_state=42)"
   ]
  },
  {
   "cell_type": "markdown",
   "metadata": {},
   "source": [
    "#### 2.4 Pipeline + SMOTE"
   ]
  },
  {
   "cell_type": "code",
   "execution_count": 19,
   "metadata": {},
   "outputs": [],
   "source": [
    "from imblearn.pipeline import Pipeline as ImbPipeline\n",
    "from sklearn.feature_extraction.text import CountVectorizer, TfidfTransformer\n",
    "from sklearn.naive_bayes import MultinomialNB\n",
    "from imblearn.over_sampling import SMOTE\n",
    "\n",
    "pipeline = ImbPipeline([\n",
    "    ('vect', CountVectorizer()),\n",
    "    ('tfidf', TfidfTransformer()),\n",
    "    ('smote', SMOTE(random_state=42)),\n",
    "    ('clf', MultinomialNB())\n",
    "])"
   ]
  },
  {
   "cell_type": "markdown",
   "metadata": {},
   "source": [
    "#### 2.5 Train Model"
   ]
  },
  {
   "cell_type": "code",
   "execution_count": null,
   "metadata": {},
   "outputs": [],
   "source": [
    "pipeline.fit(X_train, y_train)"
   ]
  },
  {
   "cell_type": "markdown",
   "metadata": {},
   "source": [
    "#### 2.6 Perform Predictions"
   ]
  },
  {
   "cell_type": "code",
   "execution_count": null,
   "metadata": {},
   "outputs": [],
   "source": [
    "y_pred = pipeline.predict(X_test)"
   ]
  },
  {
   "cell_type": "markdown",
   "metadata": {},
   "source": [
    "#### 2.7 Evaluate Predictions"
   ]
  },
  {
   "cell_type": "code",
   "execution_count": 20,
   "metadata": {},
   "outputs": [
    {
     "name": "stdout",
     "output_type": "stream",
     "text": [
      "Accuracy: 0.97\n",
      "Precision: 0.89\n",
      "Recall: 0.91\n",
      "F1 Score: 0.90\n"
     ]
    }
   ],
   "source": [
    "from sklearn.metrics import accuracy_score, precision_score, recall_score, f1_score, confusion_matrix\n",
    "\n",
    "accuracy = accuracy_score(y_test, y_pred)\n",
    "precision = precision_score(y_test, y_pred)\n",
    "recall = recall_score(y_test, y_pred)\n",
    "f1 = f1_score(y_test, y_pred)\n",
    "\n",
    "print(f'Accuracy: {accuracy:.2f}')\n",
    "print(f'Precision: {precision:.2f}')\n",
    "print(f'Recall: {recall:.2f}')\n",
    "print(f'F1 Score: {f1:.2f}')"
   ]
  },
  {
   "cell_type": "code",
   "execution_count": 21,
   "metadata": {},
   "outputs": [
    {
     "data": {
      "image/png": "[encoded data removed]",
      "text/plain": [
       "<Figure size 600x400 with 2 Axes>"
      ]
     },
     "metadata": {},
     "output_type": "display_data"
    }
   ],
   "source": [
    "import matplotlib.pyplot as plt\n",
    "import seaborn as sns\n",
    "\n",
    "conf_matrix = confusion_matrix(y_test, y_pred)\n",
    "\n",
    "plt.figure(figsize=(6, 4))\n",
    "sns.heatmap(conf_matrix, annot=True, fmt='d', cmap='Blues', xticklabels=['Ham', 'Spam'], yticklabels=['Ham', 'Spam'])\n",
    "plt.ylabel('Actual')\n",
    "plt.xlabel('Predicted')\n",
    "plt.title('Confusion Matrix')\n",
    "plt.show()"
   ]
  },
  {
   "cell_type": "markdown",
   "metadata": {},
   "source": [
    "# 3. Local Language Model Approach - DistilBert"
   ]
  },
  {
   "cell_type": "code",
   "execution_count": 1,
   "metadata": {},
   "outputs": [
    {
     "name": "stderr",
     "output_type": "stream",
     "text": [
      "c:\\Users\\diogo\\anaconda3\\Lib\\site-packages\\huggingface_hub\\file_download.py:1132: FutureWarning: `resume_download` is deprecated and will be removed in version 1.0.0. Downloads always resume when possible. If you want to force a new download, use `force_download=True`.\n",
      "  warnings.warn(\n",
      "Some weights of DistilBertForSequenceClassification were not initialized from the model checkpoint at distilbert-base-uncased and are newly initialized: ['classifier.bias', 'classifier.weight', 'pre_classifier.bias', 'pre_classifier.weight']\n",
      "You should probably TRAIN this model on a down-stream task to be able to use it for predictions and inference.\n"
     ]
    },
    {
     "data": {
      "application/vnd.jupyter.widget-view+json": {
       "model_id": "a3083bed02924e80a97f5915c9616078",
       "version_major": 2,
       "version_minor": 0
      },
      "text/plain": [
       "  0%|          | 0/837 [00:00<?, ?it/s]"
      ]
     },
     "metadata": {},
     "output_type": "display_data"
    },
    {
     "name": "stdout",
     "output_type": "stream",
     "text": [
      "{'loss': 0.7097, 'grad_norm': 3.895876884460449, 'learning_rate': 1.0000000000000002e-06, 'epoch': 0.04}\n",
      "{'loss': 0.6997, 'grad_norm': 3.7295889854431152, 'learning_rate': 2.0000000000000003e-06, 'epoch': 0.07}\n",
      "{'loss': 0.6572, 'grad_norm': 3.4864940643310547, 'learning_rate': 3e-06, 'epoch': 0.11}\n",
      "{'loss': 0.6048, 'grad_norm': 2.3775651454925537, 'learning_rate': 4.000000000000001e-06, 'epoch': 0.14}\n",
      "{'loss': 0.5323, 'grad_norm': 2.9786455631256104, 'learning_rate': 5e-06, 'epoch': 0.18}\n",
      "{'loss': 0.3747, 'grad_norm': 2.6683695316314697, 'learning_rate': 6e-06, 'epoch': 0.22}\n",
      "{'loss': 0.3446, 'grad_norm': 2.394798994064331, 'learning_rate': 7.000000000000001e-06, 'epoch': 0.25}\n",
      "{'loss': 0.1914, 'grad_norm': 1.361020803451538, 'learning_rate': 8.000000000000001e-06, 'epoch': 0.29}\n",
      "{'loss': 0.1544, 'grad_norm': 3.8314921855926514, 'learning_rate': 9e-06, 'epoch': 0.32}\n",
      "{'loss': 0.1442, 'grad_norm': 1.9693610668182373, 'learning_rate': 1e-05, 'epoch': 0.36}\n",
      "{'loss': 0.0725, 'grad_norm': 1.4981129169464111, 'learning_rate': 1.1000000000000001e-05, 'epoch': 0.39}\n",
      "{'loss': 0.0784, 'grad_norm': 2.993603467941284, 'learning_rate': 1.2e-05, 'epoch': 0.43}\n",
      "{'loss': 0.2142, 'grad_norm': 4.321686744689941, 'learning_rate': 1.3000000000000001e-05, 'epoch': 0.47}\n",
      "{'loss': 0.0928, 'grad_norm': 0.3269466161727905, 'learning_rate': 1.4000000000000001e-05, 'epoch': 0.5}\n",
      "{'loss': 0.076, 'grad_norm': 5.670897483825684, 'learning_rate': 1.5e-05, 'epoch': 0.54}\n",
      "{'loss': 0.0183, 'grad_norm': 0.40859493613243103, 'learning_rate': 1.6000000000000003e-05, 'epoch': 0.57}\n",
      "{'loss': 0.0132, 'grad_norm': 0.10775473713874817, 'learning_rate': 1.7000000000000003e-05, 'epoch': 0.61}\n",
      "{'loss': 0.0483, 'grad_norm': 0.1070747822523117, 'learning_rate': 1.8e-05, 'epoch': 0.65}\n",
      "{'loss': 0.0539, 'grad_norm': 0.10687178373336792, 'learning_rate': 1.9e-05, 'epoch': 0.68}\n",
      "{'loss': 0.0262, 'grad_norm': 0.08341141790151596, 'learning_rate': 2e-05, 'epoch': 0.72}\n",
      "{'loss': 0.0334, 'grad_norm': 0.0710451528429985, 'learning_rate': 2.1e-05, 'epoch': 0.75}\n",
      "{'loss': 0.0443, 'grad_norm': 0.05873369053006172, 'learning_rate': 2.2000000000000003e-05, 'epoch': 0.79}\n",
      "{'loss': 0.0502, 'grad_norm': 3.8709962368011475, 'learning_rate': 2.3000000000000003e-05, 'epoch': 0.82}\n",
      "{'loss': 0.0444, 'grad_norm': 1.8751275539398193, 'learning_rate': 2.4e-05, 'epoch': 0.86}\n",
      "{'loss': 0.0606, 'grad_norm': 0.6113014817237854, 'learning_rate': 2.5e-05, 'epoch': 0.9}\n",
      "{'loss': 0.055, 'grad_norm': 0.07849790900945663, 'learning_rate': 2.6000000000000002e-05, 'epoch': 0.93}\n",
      "{'loss': 0.0125, 'grad_norm': 0.05591464042663574, 'learning_rate': 2.7000000000000002e-05, 'epoch': 0.97}\n"
     ]
    },
    {
     "data": {
      "application/vnd.jupyter.widget-view+json": {
       "model_id": "e5f0b97a145c46e1884adaf8d7251806",
       "version_major": 2,
       "version_minor": 0
      },
      "text/plain": [
       "  0%|          | 0/70 [00:00<?, ?it/s]"
      ]
     },
     "metadata": {},
     "output_type": "display_data"
    },
    {
     "name": "stdout",
     "output_type": "stream",
     "text": [
      "{'eval_loss': 0.05369129776954651, 'eval_accuracy': 0.9874439461883409, 'eval_precision': 0.9927536231884058, 'eval_recall': 0.9133333333333333, 'eval_f1': 0.9513888888888888, 'eval_runtime': 52.5662, 'eval_samples_per_second': 21.211, 'eval_steps_per_second': 1.332, 'epoch': 1.0}\n",
      "{'loss': 0.003, 'grad_norm': 0.045490801334381104, 'learning_rate': 2.8000000000000003e-05, 'epoch': 1.0}\n",
      "{'loss': 0.0356, 'grad_norm': 0.6423770785331726, 'learning_rate': 2.9e-05, 'epoch': 1.04}\n",
      "{'loss': 0.0021, 'grad_norm': 0.03351730480790138, 'learning_rate': 3e-05, 'epoch': 1.08}\n",
      "{'loss': 0.0355, 'grad_norm': 0.03347598761320114, 'learning_rate': 3.1e-05, 'epoch': 1.11}\n",
      "{'loss': 0.0357, 'grad_norm': 0.36861759424209595, 'learning_rate': 3.2000000000000005e-05, 'epoch': 1.15}\n",
      "{'loss': 0.0036, 'grad_norm': 0.02568436600267887, 'learning_rate': 3.3e-05, 'epoch': 1.18}\n",
      "{'loss': 0.0713, 'grad_norm': 0.029084142297506332, 'learning_rate': 3.4000000000000007e-05, 'epoch': 1.22}\n",
      "{'loss': 0.0073, 'grad_norm': 9.549072265625, 'learning_rate': 3.5e-05, 'epoch': 1.25}\n",
      "{'loss': 0.0449, 'grad_norm': 0.030413836240768433, 'learning_rate': 3.6e-05, 'epoch': 1.29}\n",
      "{'loss': 0.0014, 'grad_norm': 0.023257285356521606, 'learning_rate': 3.7e-05, 'epoch': 1.33}\n",
      "{'loss': 0.0085, 'grad_norm': 0.020721061155200005, 'learning_rate': 3.8e-05, 'epoch': 1.36}\n",
      "{'loss': 0.0393, 'grad_norm': 0.03836101293563843, 'learning_rate': 3.9000000000000006e-05, 'epoch': 1.4}\n",
      "{'loss': 0.0386, 'grad_norm': 0.02473009191453457, 'learning_rate': 4e-05, 'epoch': 1.43}\n",
      "{'loss': 0.0389, 'grad_norm': 0.022870983928442, 'learning_rate': 4.1e-05, 'epoch': 1.47}\n",
      "{'loss': 0.0621, 'grad_norm': 14.86335277557373, 'learning_rate': 4.2e-05, 'epoch': 1.51}\n",
      "{'loss': 0.0077, 'grad_norm': 0.03691863641142845, 'learning_rate': 4.3e-05, 'epoch': 1.54}\n",
      "{'loss': 0.0524, 'grad_norm': 24.83451271057129, 'learning_rate': 4.4000000000000006e-05, 'epoch': 1.58}\n",
      "{'loss': 0.1393, 'grad_norm': 1.1491419076919556, 'learning_rate': 4.5e-05, 'epoch': 1.61}\n",
      "{'loss': 0.0255, 'grad_norm': 0.04791395738720894, 'learning_rate': 4.600000000000001e-05, 'epoch': 1.65}\n",
      "{'loss': 0.0159, 'grad_norm': 25.691083908081055, 'learning_rate': 4.7e-05, 'epoch': 1.68}\n",
      "{'loss': 0.1077, 'grad_norm': 2.591390609741211, 'learning_rate': 4.8e-05, 'epoch': 1.72}\n",
      "{'loss': 0.0475, 'grad_norm': 0.9715955853462219, 'learning_rate': 4.9e-05, 'epoch': 1.76}\n",
      "{'loss': 0.0231, 'grad_norm': 8.34831428527832, 'learning_rate': 5e-05, 'epoch': 1.79}\n",
      "{'loss': 0.0369, 'grad_norm': 0.016537940129637718, 'learning_rate': 4.851632047477745e-05, 'epoch': 1.83}\n",
      "{'loss': 0.1458, 'grad_norm': 8.723047256469727, 'learning_rate': 4.70326409495549e-05, 'epoch': 1.86}\n",
      "{'loss': 0.0163, 'grad_norm': 0.140420600771904, 'learning_rate': 4.554896142433235e-05, 'epoch': 1.9}\n",
      "{'loss': 0.1087, 'grad_norm': 0.08120592683553696, 'learning_rate': 4.4065281899109794e-05, 'epoch': 1.94}\n",
      "{'loss': 0.0407, 'grad_norm': 5.718103408813477, 'learning_rate': 4.258160237388724e-05, 'epoch': 1.97}\n"
     ]
    },
    {
     "data": {
      "application/vnd.jupyter.widget-view+json": {
       "model_id": "4479473da0b740cc98cb402eec209b86",
       "version_major": 2,
       "version_minor": 0
      },
      "text/plain": [
       "  0%|          | 0/70 [00:00<?, ?it/s]"
      ]
     },
     "metadata": {},
     "output_type": "display_data"
    },
    {
     "name": "stdout",
     "output_type": "stream",
     "text": [
      "{'eval_loss': 0.03564348444342613, 'eval_accuracy': 0.9946188340807175, 'eval_precision': 1.0, 'eval_recall': 0.96, 'eval_f1': 0.9795918367346939, 'eval_runtime': 48.2263, 'eval_samples_per_second': 23.12, 'eval_steps_per_second': 1.451, 'epoch': 2.0}\n",
      "{'loss': 0.0418, 'grad_norm': 0.05154809355735779, 'learning_rate': 4.109792284866469e-05, 'epoch': 2.01}\n",
      "{'loss': 0.0284, 'grad_norm': 0.031190399080514908, 'learning_rate': 3.961424332344214e-05, 'epoch': 2.04}\n",
      "{'loss': 0.0027, 'grad_norm': 0.2640504539012909, 'learning_rate': 3.8130563798219586e-05, 'epoch': 2.08}\n",
      "{'loss': 0.0588, 'grad_norm': 3.353166103363037, 'learning_rate': 3.664688427299703e-05, 'epoch': 2.11}\n",
      "{'loss': 0.0016, 'grad_norm': 0.0422087237238884, 'learning_rate': 3.516320474777448e-05, 'epoch': 2.15}\n",
      "{'loss': 0.0016, 'grad_norm': 0.018261384218931198, 'learning_rate': 3.3679525222551934e-05, 'epoch': 2.19}\n",
      "{'loss': 0.0017, 'grad_norm': 0.016455428674817085, 'learning_rate': 3.219584569732938e-05, 'epoch': 2.22}\n",
      "{'loss': 0.0006, 'grad_norm': 0.009256744757294655, 'learning_rate': 3.071216617210683e-05, 'epoch': 2.26}\n",
      "{'loss': 0.0311, 'grad_norm': 0.009408105164766312, 'learning_rate': 2.9228486646884274e-05, 'epoch': 2.29}\n",
      "{'loss': 0.0041, 'grad_norm': 11.851751327514648, 'learning_rate': 2.774480712166172e-05, 'epoch': 2.33}\n",
      "{'loss': 0.0472, 'grad_norm': 0.011832863092422485, 'learning_rate': 2.6261127596439174e-05, 'epoch': 2.37}\n",
      "{'loss': 0.001, 'grad_norm': 1.1097146272659302, 'learning_rate': 2.4777448071216618e-05, 'epoch': 2.4}\n",
      "{'loss': 0.0007, 'grad_norm': 0.08432897925376892, 'learning_rate': 2.3293768545994066e-05, 'epoch': 2.44}\n",
      "{'loss': 0.0014, 'grad_norm': 0.7943205833435059, 'learning_rate': 2.1810089020771514e-05, 'epoch': 2.47}\n",
      "{'loss': 0.0321, 'grad_norm': 0.0104898139834404, 'learning_rate': 2.0326409495548962e-05, 'epoch': 2.51}\n",
      "{'loss': 0.0217, 'grad_norm': 0.009622329846024513, 'learning_rate': 1.884272997032641e-05, 'epoch': 2.54}\n",
      "{'loss': 0.0005, 'grad_norm': 0.007532042451202869, 'learning_rate': 1.7359050445103858e-05, 'epoch': 2.58}\n",
      "{'loss': 0.0255, 'grad_norm': 0.018917879089713097, 'learning_rate': 1.5875370919881306e-05, 'epoch': 2.62}\n",
      "{'loss': 0.0451, 'grad_norm': 0.014690902084112167, 'learning_rate': 1.4391691394658754e-05, 'epoch': 2.65}\n",
      "{'loss': 0.0014, 'grad_norm': 0.012382439337670803, 'learning_rate': 1.29080118694362e-05, 'epoch': 2.69}\n",
      "{'loss': 0.0046, 'grad_norm': 10.148941993713379, 'learning_rate': 1.142433234421365e-05, 'epoch': 2.72}\n",
      "{'loss': 0.0005, 'grad_norm': 0.011674724519252777, 'learning_rate': 9.940652818991098e-06, 'epoch': 2.76}\n",
      "{'loss': 0.0073, 'grad_norm': 0.013279365375638008, 'learning_rate': 8.456973293768548e-06, 'epoch': 2.8}\n",
      "{'loss': 0.0015, 'grad_norm': 0.009372171945869923, 'learning_rate': 6.973293768545995e-06, 'epoch': 2.83}\n",
      "{'loss': 0.0006, 'grad_norm': 0.011806397698819637, 'learning_rate': 5.489614243323442e-06, 'epoch': 2.87}\n",
      "{'loss': 0.0007, 'grad_norm': 0.01097933854907751, 'learning_rate': 4.005934718100891e-06, 'epoch': 2.9}\n",
      "{'loss': 0.0004, 'grad_norm': 0.006857110187411308, 'learning_rate': 2.5222551928783385e-06, 'epoch': 2.94}\n",
      "{'loss': 0.0005, 'grad_norm': 0.010002890601754189, 'learning_rate': 1.0385756676557863e-06, 'epoch': 2.97}\n"
     ]
    },
    {
     "data": {
      "application/vnd.jupyter.widget-view+json": {
       "model_id": "e38fc769637f4066aa36a55b977b8ee3",
       "version_major": 2,
       "version_minor": 0
      },
      "text/plain": [
       "  0%|          | 0/70 [00:00<?, ?it/s]"
      ]
     },
     "metadata": {},
     "output_type": "display_data"
    },
    {
     "name": "stdout",
     "output_type": "stream",
     "text": [
      "{'eval_loss': 0.029717186465859413, 'eval_accuracy': 0.9946188340807175, 'eval_precision': 0.9864864864864865, 'eval_recall': 0.9733333333333334, 'eval_f1': 0.9798657718120806, 'eval_runtime': 48.6217, 'eval_samples_per_second': 22.932, 'eval_steps_per_second': 1.44, 'epoch': 3.0}\n",
      "{'train_runtime': 2090.2339, 'train_samples_per_second': 6.397, 'train_steps_per_second': 0.4, 'train_loss': 0.08325055939715084, 'epoch': 3.0}\n"
     ]
    },
    {
     "data": {
      "application/vnd.jupyter.widget-view+json": {
       "model_id": "f6cb0a5d23704180bcb1df7af678e896",
       "version_major": 2,
       "version_minor": 0
      },
      "text/plain": [
       "  0%|          | 0/70 [00:00<?, ?it/s]"
      ]
     },
     "metadata": {},
     "output_type": "display_data"
    },
    {
     "name": "stdout",
     "output_type": "stream",
     "text": [
      "Accuracy: 0.99\n",
      "Precision: 0.99\n",
      "Recall: 0.97\n",
      "F1 Score: 0.98\n"
     ]
    },
    {
     "data": {
      "image/png": "[encoded data removed]",
      "text/plain": [
       "<Figure size 600x400 with 2 Axes>"
      ]
     },
     "metadata": {},
     "output_type": "display_data"
    }
   ],
   "source": [
    "import pandas as pd\n",
    "import torch\n",
    "from transformers import DistilBertTokenizer, DistilBertForSequenceClassification, Trainer, TrainingArguments\n",
    "from sklearn.model_selection import train_test_split\n",
    "from sklearn.metrics import accuracy_score, precision_score, recall_score, f1_score, confusion_matrix\n",
    "import matplotlib.pyplot as plt\n",
    "import seaborn as sns\n",
    "from torch.utils.data import Dataset, DataLoader\n",
    "\n",
    "# Custom Dataset class\n",
    "class SpamDataset(Dataset):\n",
    "    def __init__(self, texts, labels, tokenizer, max_len):\n",
    "        self.texts = texts\n",
    "        self.labels = labels\n",
    "        self.tokenizer = tokenizer\n",
    "        self.max_len = max_len\n",
    "\n",
    "    def __len__(self):\n",
    "        return len(self.texts)\n",
    "\n",
    "    def __getitem__(self, idx):\n",
    "        text = str(self.texts[idx])\n",
    "        label = self.labels[idx]\n",
    "\n",
    "        encoding = self.tokenizer.encode_plus(\n",
    "            text,\n",
    "            add_special_tokens=True,\n",
    "            max_length=self.max_len,\n",
    "            return_token_type_ids=False,\n",
    "            padding='max_length',\n",
    "            truncation=True,\n",
    "            return_attention_mask=True,\n",
    "            return_tensors='pt',\n",
    "        )\n",
    "\n",
    "        return {\n",
    "            'input_ids': encoding['input_ids'].flatten(),\n",
    "            'attention_mask': encoding['attention_mask'].flatten(),\n",
    "            'labels': torch.tensor(label, dtype=torch.long)\n",
    "        }\n",
    "\n",
    "# Function to compute metrics\n",
    "def compute_metrics(pred):\n",
    "    labels = pred.label_ids\n",
    "    preds = pred.predictions.argmax(-1)\n",
    "    accuracy = accuracy_score(labels, preds)\n",
    "    precision = precision_score(labels, preds)\n",
    "    recall = recall_score(labels, preds)\n",
    "    f1 = f1_score(labels, preds)\n",
    "    return {\n",
    "        'accuracy': accuracy,\n",
    "        'precision': precision,\n",
    "        'recall': recall,\n",
    "        'f1': f1\n",
    "    }\n",
    "\n",
    "# Load dataset\n",
    "df = pd.read_csv('../data/spam.csv', encoding='latin-1')\n",
    "\n",
    "# Ensure target is binary\n",
    "df['v1'] = df['v1'].map({'ham': 0, 'spam': 1})\n",
    "\n",
    "# Split data into training and testing sets\n",
    "X_train, X_test, y_train, y_test = train_test_split(df['v2'], df['v1'], test_size=0.2, random_state=42)\n",
    "\n",
    "# Load pre-trained DistilBERT tokenizer\n",
    "tokenizer = DistilBertTokenizer.from_pretrained('distilbert-base-uncased')\n",
    "\n",
    "# Prepare datasets\n",
    "train_dataset = SpamDataset(X_train.values, y_train.values, tokenizer, max_len=64)\n",
    "test_dataset = SpamDataset(X_test.values, y_test.values, tokenizer, max_len=64)\n",
    "\n",
    "# Load pre-trained DistilBERT model with a classification head\n",
    "model = DistilBertForSequenceClassification.from_pretrained('distilbert-base-uncased', num_labels=2)\n",
    "\n",
    "# Define training arguments\n",
    "training_args = TrainingArguments(\n",
    "    output_dir='./results',\n",
    "    num_train_epochs=3,\n",
    "    per_device_train_batch_size=16,\n",
    "    per_device_eval_batch_size=16,\n",
    "    warmup_steps=500,\n",
    "    weight_decay=0.01,\n",
    "    logging_dir='./logs',\n",
    "    logging_steps=10,\n",
    "    evaluation_strategy='epoch'\n",
    ")\n",
    "\n",
    "# Initialize Trainer\n",
    "trainer = Trainer(\n",
    "    model=model,\n",
    "    args=training_args,\n",
    "    train_dataset=train_dataset,\n",
    "    eval_dataset=test_dataset,\n",
    "    compute_metrics=compute_metrics\n",
    ")\n",
    "\n",
    "# Train the model\n",
    "trainer.train()\n",
    "\n",
    "# Evaluate the model on the test set\n",
    "predictions = trainer.predict(test_dataset)\n",
    "preds = predictions.predictions.argmax(-1)\n",
    "\n",
    "# Compute the evaluation metrics\n",
    "accuracy = accuracy_score(y_test, preds)\n",
    "precision = precision_score(y_test, preds)\n",
    "recall = recall_score(y_test, preds)\n",
    "f1 = f1_score(y_test, preds)\n",
    "\n",
    "print(f'Accuracy: {accuracy:.2f}')\n",
    "print(f'Precision: {precision:.2f}')\n",
    "print(f'Recall: {recall:.2f}')\n",
    "print(f'F1 Score: {f1:.2f}')\n",
    "\n",
    "# Generate the confusion matrix\n",
    "conf_matrix = confusion_matrix(y_test, preds)\n",
    "\n",
    "# Plot the confusion matrix\n",
    "plt.figure(figsize=(6, 4))\n",
    "sns.heatmap(conf_matrix, annot=True, fmt='d', cmap='Blues', xticklabels=['Ham', 'Spam'], yticklabels=['Ham', 'Spam'])\n",
    "plt.ylabel('Actual')\n",
    "plt.xlabel('Predicted')\n",
    "plt.title('Confusion Matrix')\n",
    "plt.show()\n"
   ]
  },
  {
   "cell_type": "code",
   "execution_count": null,
   "metadata": {},
   "outputs": [],
   "source": []
  }
 ],
 "metadata": {
  "kernelspec": {
   "display_name": "base",
   "language": "python",
   "name": "python3"
  },
  "language_info": {
   "codemirror_mode": {
    "name": "ipython",
    "version": 3
   },
   "file_extension": ".py",
   "mimetype": "text/x-python",
   "name": "python",
   "nbconvert_exporter": "python",
   "pygments_lexer": "ipython3",
   "version": "3.11.4"
  }
 },
 "nbformat": 4,
 "nbformat_minor": 2
}
